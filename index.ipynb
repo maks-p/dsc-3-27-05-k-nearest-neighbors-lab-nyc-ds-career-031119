{
 "cells": [
  {
   "cell_type": "markdown",
   "metadata": {},
   "source": [
    "# K-Nearest Neighbors - Lab\n",
    "\n",
    "## Introduction\n",
    "\n",
    "In this lesson, we'll build a simple version of a **_K-Nearest Neigbors Classifier_** from scratch, and train it to make predictions on a dataset!\n",
    "\n",
    "## Objectives\n",
    "\n",
    "You will be able to:\n",
    "\n",
    "* Implement a basic KNN algorithm from scratch\n",
    "\n",
    "## Getting Started\n",
    "\n",
    "We'll begin this lab by creating our classifier.  To keep things simple, we'll be using a helper function from the scipy library to calcluate euclidean distance for us--specifically, the `euclidean()` function from the `scipy.spatial.distance` module. Import this function in the cell below."
   ]
  },
  {
   "cell_type": "code",
   "execution_count": 1,
   "metadata": {},
   "outputs": [],
   "source": [
    "from scipy.spatial.distance import euclidean as euc\n",
    "import numpy as np\n",
    "np.random.seed(0)"
   ]
  },
  {
   "cell_type": "markdown",
   "metadata": {},
   "source": [
    "Great! Now, we'll need to define our `KNN` class. Since we don't need to do anything at initialization, we don't need to modify the `__init__` method at all.\n",
    "\n",
    "In the cell below:\n",
    "\n",
    "* Create an class called `KNN`.\n",
    "* This class should contain two empty methods--`fit`, and `predict`. (Set the body of both of these methods to `pass`)"
   ]
  },
  {
   "cell_type": "code",
   "execution_count": 3,
   "metadata": {},
   "outputs": [],
   "source": [
    "class KNN:\n",
    "    \n",
    "    def fit(self):\n",
    "        pass\n",
    "    \n",
    "    def predict(self):\n",
    "        pass"
   ]
  },
  {
   "cell_type": "markdown",
   "metadata": {},
   "source": [
    "## Completing the `fit` Method\n",
    "\n",
    "Recall from our previous lesson on KNN that when \"fitting\" a KNN classifier, all we're really doing is storing the points and their corresponding labels. There's no actual \"fitting\" involved here, since all we can do is store the data so that we can use it to calculate the nearest nighbors when the `predict` method is called.\n",
    "\n",
    "Our inputs for this function should be:\n",
    "\n",
    "* `self`, since this will be an instance method inside the `KNN` class.\n",
    "* `X_train`--A 2-dimensional array. Each of the internal arrays represents a _vector_ for a given point in space. \n",
    "* `y_train`--the corresponding labels for each vector in `X_train`. The label at `y_train[0]` is the label that corresponds to the vector at `X_train[0]`, and so on. \n",
    "\n",
    "In the cell below, complete the `fit` method."
   ]
  },
  {
   "cell_type": "code",
   "execution_count": 5,
   "metadata": {},
   "outputs": [],
   "source": [
    "def fit(self, X_train, y_train):\n",
    "    \n",
    "    self.X_train = X_train\n",
    "    self.y_train = y_train\n",
    "    \n",
    "# This line updates the knn.fit method to point to the function we've just written\n",
    "KNN.fit = fit\n"
   ]
  },
  {
   "cell_type": "markdown",
   "metadata": {},
   "source": [
    "### Helper Functions\n",
    "\n",
    "Next, we'll write two helper functions to make things easier for us when completing the `predict` function. The first helper function we'll write return an array containing the distance between a point we pass in and every point inside of `X_train`. \n",
    "\n",
    "In the cell below, complete the `_get_distances()` function. This function should:\n",
    "\n",
    "* Take in two arguments: `self` and `x`\n",
    "* Create an empty array to hold all the distances we're going to calculate\n",
    "* Enumerate through every item in `self.X_train`. For each item: \n",
    "    * Use the `euc()` function we imported to get the distance between x and the current point from `X_train`.\n",
    "    * Create a tuple containing the index and the distance (in that order!) and append it to our `distances` array.\n",
    "* Return the `distances` array when a distance has been generated for each item in `self.X_train`."
   ]
  },
  {
   "cell_type": "code",
   "execution_count": 17,
   "metadata": {},
   "outputs": [],
   "source": [
    "from sklearn.datasets import load_iris\n",
    "iris = load_iris()\n",
    "data = iris.data"
   ]
  },
  {
   "cell_type": "code",
   "execution_count": 27,
   "metadata": {},
   "outputs": [
    {
     "name": "stdout",
     "output_type": "stream",
     "text": [
      "0 15.370751445521458\n",
      "1 15.65279527752152\n",
      "2 15.686299754881647\n",
      "3 15.65439235486322\n",
      "4 15.36098955145794\n",
      "5 14.81283227475421\n",
      "6 15.516765126791086\n",
      "7 15.389931773727914\n",
      "8 15.867261893597144\n",
      "9 15.616657773031974\n",
      "10 15.137370973851437\n",
      "11 15.401298646542765\n",
      "12 15.748333245140579\n",
      "13 16.0844645543456\n",
      "14 15.070500987027605\n",
      "15 14.63762275781146\n",
      "16 15.040611689688687\n",
      "17 15.30718785407692\n",
      "18 14.829362764461594\n",
      "19 15.125805763660988\n",
      "20 15.154207336578184\n",
      "21 15.103310895297097\n",
      "22 15.721323099535866\n",
      "23 15.100993344810137\n",
      "24 15.239750654128171\n",
      "25 15.511286213592992\n",
      "26 15.207892687680301\n",
      "27 15.283324245726124\n",
      "28 15.381807436059002\n",
      "29 15.521919984331836\n",
      "30 15.532224567009068\n",
      "31 15.137040661899537\n",
      "32 15.103310895297097\n",
      "33 14.962954253756175\n",
      "34 15.553456207544354\n",
      "35 15.643529013620936\n",
      "36 15.304574479546957\n",
      "37 15.457684173251826\n",
      "38 15.87734234687909\n",
      "39 15.357734207883661\n",
      "40 15.395778642212285\n",
      "41 16.10341578672053\n",
      "42 15.790186826000507\n",
      "43 15.038949431393139\n",
      "44 14.839811319555245\n",
      "45 15.62337991601049\n",
      "46 15.134397906755327\n",
      "47 15.665248162732693\n",
      "48 15.168058544190815\n",
      "49 15.488382743204664\n",
      "50 12.541531007018241\n",
      "51 12.716131487209465\n",
      "52 12.469161960613071\n",
      "53 13.828593565507665\n",
      "54 12.864680330268607\n",
      "55 13.276671269561508\n",
      "56 12.53913872640382\n",
      "57 14.479640879524602\n",
      "58 12.915881696578055\n",
      "59 13.693063937629152\n",
      "60 14.568802284333465\n",
      "61 13.103434664239755\n",
      "62 13.92264342716569\n",
      "63 12.948745112944342\n",
      "64 13.653570961473779\n",
      "65 12.799218726156687\n",
      "66 13.071342700732774\n",
      "67 13.665284482951682\n",
      "68 13.33341666640625\n",
      "69 13.857488950022656\n",
      "70 12.543125607279869\n",
      "71 13.369367973094315\n",
      "72 12.96919426949878\n",
      "73 13.136970731489052\n",
      "74 13.097709723459289\n",
      "75 12.87944098165755\n",
      "76 12.770277992275657\n",
      "77 12.400806425390247\n",
      "78 12.996538000559996\n",
      "79 14.017845768876187\n",
      "80 13.98785187224972\n",
      "81 14.096098751072937\n",
      "82 13.622775047691274\n",
      "83 12.800781226159597\n",
      "84 13.140015220691337\n",
      "85 12.663727729227283\n",
      "86 12.60317420335052\n",
      "87 13.41752585240662\n",
      "88 13.37385509118444\n",
      "89 13.71823603820841\n",
      "90 13.557654664432194\n",
      "91 12.93560976529518\n",
      "92 13.63231455036158\n",
      "93 14.497586005952853\n",
      "94 13.489996293550268\n",
      "95 13.363008643265932\n",
      "96 13.350280895921253\n",
      "97 13.154086817411537\n",
      "98 14.43849022578192\n",
      "99 13.447304562625181\n",
      "100 11.438094246857734\n",
      "101 12.670832648251652\n",
      "102 11.688883607941351\n",
      "103 12.275992831539126\n",
      "104 11.820744477400735\n",
      "105 11.345924378383632\n",
      "106 13.468481725866505\n",
      "107 11.774124171249426\n",
      "108 12.329639086364207\n",
      "109 10.966312051004202\n",
      "110 12.103718436910205\n",
      "111 12.407658925034971\n",
      "112 11.912178642045292\n",
      "113 12.796093153771583\n",
      "114 12.298373876248844\n",
      "115 11.856643707221703\n",
      "116 12.195900950729307\n",
      "117 10.745231500530828\n",
      "118 11.355615351005863\n",
      "119 13.194316958448436\n",
      "120 11.55984428960875\n",
      "121 12.696850003051939\n",
      "122 11.48999564838908\n",
      "123 12.658198924017587\n",
      "124 11.691022196540386\n",
      "125 11.718361660232201\n",
      "126 12.671227249165725\n",
      "127 12.548306658669128\n",
      "128 12.106609764917675\n",
      "129 12.043255373859678\n",
      "130 11.80762465528101\n",
      "131 10.945775440780794\n",
      "132 12.041594578792296\n",
      "133 12.719669807035087\n",
      "134 12.778497564267875\n",
      "135 11.348568191626642\n",
      "136 11.591807451816994\n",
      "137 12.167990795525775\n",
      "138 12.6206180514268\n",
      "139 11.865496196956958\n",
      "140 11.645600027478189\n",
      "141 11.854113210189956\n",
      "142 12.670832648251652\n",
      "143 11.514338886796757\n",
      "144 11.424535001478178\n",
      "145 11.92560271013587\n",
      "146 12.670832648251652\n",
      "147 12.177438154226035\n",
      "148 11.766477807738388\n",
      "149 12.532358118087751\n"
     ]
    }
   ],
   "source": [
    "for i, value in enumerate(data):\n",
    "    #print(i, value)\n",
    "    print(i, (euc(10, value)))"
   ]
  },
  {
   "cell_type": "code",
   "execution_count": 13,
   "metadata": {},
   "outputs": [],
   "source": [
    "def _get_distances(self, x):\n",
    "    \n",
    "    distances = np.array([])\n",
    "    \n",
    "    for \n",
    "\n",
    "# This line attaches the function we just created as a method to our KNN class.\n",
    "KNN._get_distances = _get_distances"
   ]
  },
  {
   "cell_type": "code",
   "execution_count": 15,
   "metadata": {},
   "outputs": [
    {
     "data": {
      "text/plain": [
       "array([], dtype=float64)"
      ]
     },
     "execution_count": 15,
     "metadata": {},
     "output_type": "execute_result"
    }
   ],
   "source": []
  },
  {
   "cell_type": "code",
   "execution_count": 8,
   "metadata": {},
   "outputs": [
    {
     "name": "stdout",
     "output_type": "stream",
     "text": [
      "Help on function euclidean in module scipy.spatial.distance:\n",
      "\n",
      "euclidean(u, v, w=None)\n",
      "    Computes the Euclidean distance between two 1-D arrays.\n",
      "    \n",
      "    The Euclidean distance between 1-D arrays `u` and `v`, is defined as\n",
      "    \n",
      "    .. math::\n",
      "    \n",
      "       {||u-v||}_2\n",
      "    \n",
      "       \\left(\\sum{(w_i |(u_i - v_i)|^2)}\\right)^{1/2}\n",
      "    \n",
      "    Parameters\n",
      "    ----------\n",
      "    u : (N,) array_like\n",
      "        Input array.\n",
      "    v : (N,) array_like\n",
      "        Input array.\n",
      "    w : (N,) array_like, optional\n",
      "        The weights for each value in `u` and `v`. Default is None,\n",
      "        which gives each value a weight of 1.0\n",
      "    \n",
      "    Returns\n",
      "    -------\n",
      "    euclidean : double\n",
      "        The Euclidean distance between vectors `u` and `v`.\n",
      "    \n",
      "    Examples\n",
      "    --------\n",
      "    >>> from scipy.spatial import distance\n",
      "    >>> distance.euclidean([1, 0, 0], [0, 1, 0])\n",
      "    1.4142135623730951\n",
      "    >>> distance.euclidean([1, 1, 0], [0, 1, 0])\n",
      "    1.0\n",
      "\n"
     ]
    }
   ],
   "source": [
    "help(euc)"
   ]
  },
  {
   "cell_type": "markdown",
   "metadata": {},
   "source": [
    "Great! The second big challenge in a `predict` method is getting the indices of the k-nearest points. To keep our coming `predict` method nice and clean, we'll abstract this functionality into a helper method called `_get_k_nearest`.  \n",
    "\n",
    "In the cell below, complete the `_get_k_nearest` function.  This function should:\n",
    "\n",
    "* Take in 3 arguments:\n",
    "    * `self`\n",
    "    * `dists`, an array of tuples containing (index, distance), which will be output from the `_get_distances` method. \n",
    "    * `k`, the number of nearest neighbors we want to return.\n",
    "* Sort our `dists` array by distances values, which are the second element in each tuple\n",
    "* Return the first `k` tuples from then (now sorted) `dists` array.\n",
    "\n",
    "**_Hint:_** To easily sort on the second item in the tuples contained within the `dists` array, use the `sorted` function and pass in lambda for the `key=` parameter. To sort on the second element of each tuple, we can just use `key=lambda x: x[1]`!"
   ]
  },
  {
   "cell_type": "code",
   "execution_count": null,
   "metadata": {},
   "outputs": [],
   "source": [
    "def _get_k_nearest(self, dists, k):\n",
    "    pass\n",
    "\n",
    "# This line attaches the function we just created as a method to our KNN class.\n",
    "KNN._get_k_nearest = _get_k_nearest"
   ]
  },
  {
   "cell_type": "markdown",
   "metadata": {},
   "source": [
    "Now, we have helper functions to help us get the distances, and then get the k-nearest neighbors based on those distances. The final helper function we'll create will help us get the labels that correspond to each of the k-nearest point, and return the class that occurs the most. \n",
    "\n",
    "Complete the `_get_label_prediction()` function in the cell below. This function should:\n",
    "\n",
    "* Create a list containing the labels from `self.y_train` for each index in `k_nearest` (remember, each item in `k_nearest` is a tuple, and the index is stored as the first item in each tuple)\n",
    "* Get the total counts for each label (use `np.bincount()` and pass in the label array created in the previous step)\n",
    "* Get the index of the label with the highest overall count in counts (use `np.argmax()` for this, and pass in the counts created in the previous step)."
   ]
  },
  {
   "cell_type": "code",
   "execution_count": null,
   "metadata": {},
   "outputs": [],
   "source": [
    "def _get_label_prediction(self, k_nearest):\n",
    "    pass\n",
    "\n",
    "# This line attaches the function we just created as a method to our KNN class.\n",
    "KNN._get_label_prediction = _get_label_prediction"
   ]
  },
  {
   "cell_type": "markdown",
   "metadata": {},
   "source": [
    "Great! Now, we need to complete the `predict` method. This will be much simpler, now that we have some \n",
    "\n",
    "## Completing the `predict` Method\n",
    "\n",
    "This method does all the heavy lifting for KNN, so this will be a bit more complex than our `fit` method. Let's examine how this method should work, so that we'll have a better idea of how to write it.\n",
    "\n",
    "1. The function takes in an array of vectors that we want predictions for.\n",
    "1. For each vector that we want to make a prediction for: \n",
    "    1a. The classifier calculates the distance between that vector and every other vector in our training set. \n",
    "    1b. The classifier identifies the K nearest vectors to the vector we want a prediction for.\n",
    "    1c. The classifier determines which label the majority of the K nearest neighbors share, and appends this prediction to an array we will output. The index of the prediction in this array should be the same as the index of the point that it corresponds to (e.g. `pred[0]` is the prediction for `X_test[0]`).\n",
    "2. Once predictions have been generated for every vector in question, return the array of predictions. \n",
    "\n",
    "This tells us a few things about what our `predict` function will need to be able to do:\n",
    "\n",
    "* In addition to `self`, our `predict` function should take in two arguments: \n",
    "    * `X_test`, the points we want to classify\n",
    "    * `k`, which specifies the number of neighbors we should use to make the classification.  We'll set `k=3` as a default, but allow the user to update it if they choose.\n",
    "* Our method will need to iterate through every item in `X_test`. For each item:\n",
    "    * Calculate the distance to all points in `X_train` by using our `_get_distances()` helper method we created.\n",
    "    * Find the k-nearest points in `X_train` by using the `_get_k_nearest()` helper method we created\n",
    "    * Use the index values contained within the tuples returned by `_get_k_nearest()` to get the corresponding labels for each of the nearest points. \n",
    "    * Determine which class is most represented in these labels and treat that as the prediction for this point. Append the prediction to `preds`.\n",
    "* Once a prediction has been generated for every item in `X_test`, return `preds`\n",
    "\n",
    "Follow these instructions to complete the `predict()` method in the cell below!"
   ]
  },
  {
   "cell_type": "code",
   "execution_count": null,
   "metadata": {},
   "outputs": [],
   "source": [
    "def predict(self, X_test, k=3):\n",
    "    pass\n",
    "        \n",
    "KNN.predict = predict"
   ]
  },
  {
   "cell_type": "markdown",
   "metadata": {},
   "source": [
    "Great! Now, let's try out our new KNN classifier on a sample dataset to see how well it works!\n",
    "\n",
    "## Testing Our KNN Classifier\n",
    "\n",
    "In order to test the performance of our model, we're going to import the **_Iris Dataset_**. Specifically, we'll use the `load_iris` function, which can be found inside of the `sklearn.datasets` module. We'll then call this function, and use the object it returns. We'll also import `train_test_split` from `sklearn.model_selection`, as well as `accuracy_score` from `sklearn.metrics`.  Note that there are **_3 classes_** in the Iris Dataset, making this a multicategorical classification problem. This means that we can't use evaluation metrics that are meant for binary classification problems. For this, we'll just stick to accuracy. \n",
    "\n",
    "Run the cell below to import everything we'll need from sklearn to test our model. "
   ]
  },
  {
   "cell_type": "code",
   "execution_count": null,
   "metadata": {},
   "outputs": [],
   "source": [
    "from sklearn.datasets import load_iris\n",
    "from sklearn.model_selection import train_test_split\n",
    "from sklearn.metrics import accuracy_score\n",
    "\n",
    "iris = load_iris()\n",
    "data = iris.data\n",
    "target = iris.target"
   ]
  },
  {
   "cell_type": "markdown",
   "metadata": {},
   "source": [
    "Now, you'll need to use `train_test_split` to split our training data into training and testing sets. Pass in the `data`, the `target`, and set a `test_size` of `0.25`."
   ]
  },
  {
   "cell_type": "code",
   "execution_count": null,
   "metadata": {},
   "outputs": [],
   "source": [
    "X_train, X_test, y_train, y_test = None"
   ]
  },
  {
   "cell_type": "markdown",
   "metadata": {},
   "source": [
    "Now, instantiate a knn object, and `fit` it to the data in `X_train` and the labels in `y_train`."
   ]
  },
  {
   "cell_type": "code",
   "execution_count": null,
   "metadata": {},
   "outputs": [],
   "source": [
    "knn = None"
   ]
  },
  {
   "cell_type": "markdown",
   "metadata": {},
   "source": [
    "Now, we'll create some predictions on our testing data.  In the cell below, use the `.predict()` method to generate predictions for the data stored in `X_test`."
   ]
  },
  {
   "cell_type": "code",
   "execution_count": null,
   "metadata": {},
   "outputs": [],
   "source": [
    "preds = None"
   ]
  },
  {
   "cell_type": "markdown",
   "metadata": {},
   "source": [
    "And now, for the moment of truth! Let's test the accuracy of our predictions. In the cell below, complete the call to `accuracy_score` by passing in `y_test` and our `preds`!"
   ]
  },
  {
   "cell_type": "code",
   "execution_count": null,
   "metadata": {},
   "outputs": [],
   "source": [
    "print(\"Testing Accuracy: {}\".format(accuracy_score(None, None)))\n",
    "# Expected Output: Testing Accuracy: 0.9736842105263158"
   ]
  },
  {
   "cell_type": "markdown",
   "metadata": {},
   "source": [
    "Over 97% accuracy! Not bad for a handwritten machine learning classifier!"
   ]
  },
  {
   "cell_type": "markdown",
   "metadata": {},
   "source": [
    "## Summary\n",
    "\n",
    "That was great! In what's next, you'll dive a little deeper into evaluating performance of a KNN algorithm!"
   ]
  }
 ],
 "metadata": {
  "kernelspec": {
   "display_name": "Python 3",
   "language": "python",
   "name": "python3"
  },
  "language_info": {
   "codemirror_mode": {
    "name": "ipython",
    "version": 3
   },
   "file_extension": ".py",
   "mimetype": "text/x-python",
   "name": "python",
   "nbconvert_exporter": "python",
   "pygments_lexer": "ipython3",
   "version": "3.6.6"
  }
 },
 "nbformat": 4,
 "nbformat_minor": 2
}
